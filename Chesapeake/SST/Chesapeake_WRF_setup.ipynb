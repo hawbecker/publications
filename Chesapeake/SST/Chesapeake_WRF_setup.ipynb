{
 "cells": [
  {
   "cell_type": "code",
   "execution_count": 2,
   "metadata": {},
   "outputs": [],
   "source": [
    "%load_ext autoreload\n",
    "%autoreload 2\n",
    "%matplotlib inline\n",
    "\n",
    "import pandas as pd\n",
    "from mmctools.wrf import preprocessing as wps\n",
    "import os\n",
    "import glob\n",
    "import numpy as np\n",
    "from netCDF4 import Dataset\n",
    "from wrf import ll_to_xy\n",
    "import matplotlib.pyplot as plt"
   ]
  },
  {
   "cell_type": "markdown",
   "metadata": {},
   "source": [
    "# User Settings:"
   ]
  },
  {
   "cell_type": "code",
   "execution_count": 3,
   "metadata": {},
   "outputs": [],
   "source": [
    "import sys\n",
    "sys.path.append('/glade/u/home/hawbecke/Code/Python/publications/')\n",
    "from Chesapeake.CBB_case_dict import case_dict\n",
    "cases = list(case_dict.keys())\n",
    "cases = cases[3:]"
   ]
  },
  {
   "cell_type": "code",
   "execution_count": 4,
   "metadata": {},
   "outputs": [],
   "source": [
    "sst_datasets = { 'orig' : {'name':'DEFLT'},\n",
    "                'G1SST' : {'name':'G1SST'}, \n",
    "                  'MUR' : {'name':'MUR1K'}, \n",
    "                'MODIS' : {'name':'MODIS'}, \n",
    "                 'OSPO' : {'name':'OSPOG'}, \n",
    "                'OSTIA' : {'name':'OSTIA'}, \n",
    "                 'NAVO' : {'name':'NAVOK'}, \n",
    "                  'CMC' : {'name':'CMC01'}, \n",
    "                 'NCEI' : {'name':'NCEIA'}, \n",
    "                 #'FILL' : {'name':'SFILL'},\n",
    "               }\n",
    "\n",
    "case_vars_dict = {     \n",
    "                   'SST' : list(sst_datasets.keys()),\n",
    "                  'FILL' : ['NOFL','FILL'],\n",
    "              'SST_SKIN' : ['NOSK','SKNT'],\n",
    "}"
   ]
  },
  {
   "cell_type": "code",
   "execution_count": 5,
   "metadata": {},
   "outputs": [],
   "source": [
    "wrf_exe_location = '/glade/work/hawbecke/Models/WRF/WRFvMMC/mmc_develop/WRF/run/'\n",
    "wps_exe_location = '/glade/work/hawbecke/Models/WRF/WRFvMMC/WPS/'\n",
    "#wps_exe_location = '/glade/work/hawbecke/Models/WRF/WRFv3.9.1/WPS/'\n",
    "\n",
    "icbc_type = 'ERAI'  # ERAI, ERA5, FNL\n",
    "icbc_directory = '/glade/scratch/hawbecke/WRF/ICBC/'\n",
    "\n",
    "# Case specifics - 60 hour runs for 6 days, 2 day intervals\n",
    "case_start  = '2019-07-15 18:00:00'\n",
    "case_end    = '2019-07-29 18:00:00'\n",
    "case_delta  = '2d'\n",
    "case_length = '60h'\n",
    "\n",
    "# Submission script info\n",
    "submission_dict = {\n",
    "            'account_key' : 'nsap0003',\n",
    "         'walltime_hours' : {'wrf':6,'wps':1,'real':1},\n",
    "             'user_email' : 'hawbecke@ucar.edu',\n",
    "                  'nodes' : {'wrf':5,'wps':1,'real':5},\n",
    "                   }\n",
    "\n",
    "setup_dict = {\n",
    "             'start_date' : case_start,\n",
    "               'end_date' : case_end,\n",
    "              'icbc_type' : icbc_type,\n",
    "                'max_dom' : 3,\n",
    "                    'dxy' : 27000,\n",
    "              'time_step' : 135,\n",
    "            'max_ts_locs' : 30,\n",
    "           'max_ts_level' : 19,\n",
    "        'input_from_file' : [True,True,True],\n",
    "      'parent_grid_ratio' : [1,3,3],\n",
    " 'parent_time_step_ratio' : [1,3,5],\n",
    "         'i_parent_start' : [1, 57, 43],\n",
    "         'j_parent_start' : [1, 44, 33,],\n",
    "                     'nx' : [154, 154, 202],\n",
    "                     'ny' : [133, 133, 202],\n",
    "                 'e_vert' : 60,\n",
    "                  'dzbot' : 20.0,\n",
    "            'dzstretch_s' : 1.1,\n",
    "                'ref_lat' : 39.00000,\n",
    "                'ref_lon' : -78.00000,\n",
    "               'truelat1' : 39.00000,\n",
    "               'truelat2' : 39.00000,\n",
    "              'stand_lon' : -78.00000,\n",
    "          'geog_data_res' : '30s+topobath_30s',\n",
    "         'geog_data_path' : '/glade/work/hawbecke/geog/',\n",
    "       'history_interval' : [360,360,60],\n",
    "       'restart_interval' : 720,\n",
    "       'auxinput4_inname' : 'wrflowinp_d<domain>',\n",
    "     'auxinput4_interval' : 360,\n",
    "      'io_form_auxinput4' : 2,\n",
    "      'iofields_filename' : 'myoutfields.txt',  \n",
    "'ignore_iofields_warning' : True,\n",
    "            'debug_level' : 0,\n",
    "        'p_top_requested' : 10000,\n",
    "               'feedback' : 0,\n",
    "          'smooth_option' : 0,\n",
    "             'mp_physics' : 6,\n",
    "      'sf_sfclay_physics' : 1,\n",
    "     'sf_surface_physics' : 2,\n",
    "         'bl_pbl_physics' : 1,\n",
    "             'cu_physics' : [1,1,0],\n",
    "                 'icloud' : 1,\n",
    "             'hybrid_opt' : 0,\n",
    "            'use_theta_m' : 1,\n",
    "                  'smdiv' : 0.1,\n",
    "                'nproc_x' : 15,\n",
    "                'nproc_y' : 12,\n",
    "#        'shalwater_rough' : 0,\n",
    "             'sst_update' : 1,\n",
    "               'sst_skin' : 0,\n",
    "       'sf_urban_physics' : [0],\n",
    "       'sf_ocean_physics' : 0,\n",
    "              'w_damping' : 1,\n",
    "#      'diff_6th_slopeopt' : [0],\n",
    "          }"
   ]
  },
  {
   "cell_type": "code",
   "execution_count": 6,
   "metadata": {},
   "outputs": [
    {
     "name": "stdout",
     "output_type": "stream",
     "text": [
      "[-76.17, -76.684, -77.035, -76.611, -77.447, -76.417, -76.48, -76.417, -76.429]\n",
      "[39.472, 39.173, 38.847, 39.281, 38.935, 39.333, 38.99, 38.3, 38.142]\n",
      "['APG', 'BWI', 'DCA', 'DMH', 'IAD', 'MTN', 'NAK', 'NHK', 'NUI']\n",
      "['APG', 'BWI', 'DCA', 'DMH', 'IAD', 'MTN', 'NAK', 'NHK', 'NUI']\n"
     ]
    }
   ],
   "source": [
    "tslist_f = '/glade/work/hawbecke/ATEC/Chesapeake/onshore_tslist'\n",
    "tslist = open(tslist_f,'r')\n",
    "tslist.readline()\n",
    "tslist.readline()\n",
    "tslist.readline()\n",
    "\n",
    "twr_lat = []\n",
    "twr_lon = []\n",
    "twr_names = []\n",
    "twr_abbreviation = []\n",
    "for line in tslist:\n",
    "    line = line.split()\n",
    "    twr_names.append(str(line[0]))\n",
    "    twr_abbreviation.append(str(line[1]))\n",
    "    twr_lat.append(float(line[2]))\n",
    "    twr_lon.append(float(line[3]))\n",
    "    \n",
    "tslist.close()\n",
    "print(twr_lon)\n",
    "print(twr_lat)\n",
    "print(twr_names)\n",
    "print(twr_abbreviation)"
   ]
  },
  {
   "cell_type": "markdown",
   "metadata": {},
   "source": [
    "# Add buoy locations to tslist:"
   ]
  },
  {
   "cell_type": "code",
   "execution_count": 7,
   "metadata": {},
   "outputs": [],
   "source": [
    "buoy_loc_dict = {'ANN': {'lat': 38.963, 'lon': -76.448},\n",
    "                 'BIS': {'lat': 38.22, 'lon': -76.039},\n",
    "                 'CAM': {'lat': 38.574, 'lon': -76.069},\n",
    "                 'DEB': {'lat': 38.457, 'lon': -74.702},\n",
    "                 'FLG': {'lat': 36.998, 'lon': -76.087},\n",
    "                 'FLN': {'lat': 36.9982, 'lon': -76.08704},\n",
    "                 'GOO': {'lat': 38.556, 'lon': -76.415},\n",
    "                 'GRF': {'lat': 38.55624, 'lon': -76.41450999999999},\n",
    "                 'JTN': {'lat': 37.21137, 'lon': -76.78677},\n",
    "                 'LWT': {'lat': 37.995, 'lon': -76.465},\n",
    "                 'PMC': {'lat': 38.03345, 'lon': -76.33753},\n",
    "                 'SLM': {'lat': 38.321, 'lon': -76.452},\n",
    "                 'SRP': {'lat': 37.56732, 'lon': -76.26213},\n",
    "                 'TBL': {'lat': 37.026, 'lon': -76.151},\n",
    "                 'THP': {'lat': 38.899, 'lon': -76.436},\n",
    "                 'VAB': {'lat': 36.601, 'lon': -74.834},\n",
    "                 'YKP': {'lat': 37.20069, 'lon': -76.26611},\n",
    "                 'YKS': {'lat': 37.201, 'lon': -76.266}}"
   ]
  },
  {
   "cell_type": "markdown",
   "metadata": {},
   "source": [
    "### Need to make sure all stations are on water cells:"
   ]
  },
  {
   "cell_type": "code",
   "execution_count": 8,
   "metadata": {},
   "outputs": [
    {
     "data": {
      "image/png": "[encoded data removed]",
      "text/plain": [
       "<Figure size 576x576 with 1 Axes>"
      ]
     },
     "metadata": {
      "needs_background": "light"
     },
     "output_type": "display_data"
    }
   ],
   "source": [
    "met_file = '/glade/work/hawbecke/ATEC/Chesapeake/SENSITIVITY_STUDY/20190716to20190801/met_em/ERAI/orig/met_em.d03.2019-08-01_06:00:00.nc'\n",
    "met_ds = Dataset(met_file,'r')\n",
    "\n",
    "landmask = met_ds['LANDMASK'][0,:,:]\n",
    "wrf_lat = met_ds['XLAT_M'][0,:,:]\n",
    "wrf_lon = met_ds['XLONG_M'][0,:,:]\n",
    "\n",
    "plt.figure(figsize=(8,8))\n",
    "plt.pcolormesh(wrf_lon,wrf_lat,landmask)\n",
    "for buoy in buoy_loc_dict:\n",
    "    buoy_loc = ll_to_xy(met_ds,buoy_loc_dict[buoy]['lat'],buoy_loc_dict[buoy]['lon'])\n",
    "    if landmask[buoy_loc[1],buoy_loc[0]] != 0.0:\n",
    "        if buoy == 'SLM':\n",
    "            buoy_loc[0] += 1\n",
    "        if buoy == 'CAM':\n",
    "            buoy_loc[1] += 1\n",
    "        plt.scatter(wrf_lon[buoy_loc[1],buoy_loc[0]],wrf_lat[buoy_loc[1],buoy_loc[0]])\n",
    "        plt.scatter(buoy_loc_dict[buoy]['lon'],buoy_loc_dict[buoy]['lat'],marker='x')\n",
    "        plt.text(wrf_lon[buoy_loc[1],buoy_loc[0]],wrf_lat[buoy_loc[1],buoy_loc[0]],buoy)\n",
    "        \n",
    "        buoy_loc_dict[buoy]['lat'] = wrf_lat[buoy_loc[1],buoy_loc[0]]\n",
    "        buoy_loc_dict[buoy]['lon'] = wrf_lon[buoy_loc[1],buoy_loc[0]]\n",
    "        \n",
    "\n",
    "plt.ylim(38,39)\n",
    "plt.xlim(-77.1,-75.9)\n",
    "plt.show()\n"
   ]
  },
  {
   "cell_type": "markdown",
   "metadata": {},
   "source": [
    "### Add buoys to twr lists:"
   ]
  },
  {
   "cell_type": "code",
   "execution_count": 9,
   "metadata": {},
   "outputs": [
    {
     "name": "stdout",
     "output_type": "stream",
     "text": [
      "[-76.17, -76.684, -77.035, -76.611, -77.447, -76.417, -76.48, -76.417, -76.429, -76.448, -76.039, -76.06653, -74.702, -76.087, -76.08704, -76.415, -76.41450999999999, -76.78677, -76.465, -76.33753, -76.417725, -76.26213, -76.151, -76.436, -74.834, -76.26611, -76.266]\n",
      "[39.472, 39.173, 38.847, 39.281, 38.935, 39.333, 38.99, 38.3, 38.142, 38.963, 38.22, 38.59268, 38.457, 36.998, 36.9982, 38.556, 38.55624, 37.21137, 37.995, 38.03345, 38.328117, 37.56732, 37.026, 38.899, 36.601, 37.20069, 37.201]\n",
      "['APG', 'BWI', 'DCA', 'DMH', 'IAD', 'MTN', 'NAK', 'NHK', 'NUI', 'ANN', 'BIS', 'CAM', 'DEB', 'FLG', 'FLN', 'GOO', 'GRF', 'JTN', 'LWT', 'PMC', 'SLM', 'SRP', 'TBL', 'THP', 'VAB', 'YKP', 'YKS']\n",
      "['APG', 'BWI', 'DCA', 'DMH', 'IAD', 'MTN', 'NAK', 'NHK', 'NUI', 'ANN', 'BIS', 'CAM', 'DEB', 'FLG', 'FLN', 'GOO', 'GRF', 'JTN', 'LWT', 'PMC', 'SLM', 'SRP', 'TBL', 'THP', 'VAB', 'YKP', 'YKS']\n"
     ]
    }
   ],
   "source": [
    "for buoy in buoy_loc_dict:\n",
    "    twr_lon.append(buoy_loc_dict[buoy]['lon'])\n",
    "    twr_lat.append(buoy_loc_dict[buoy]['lat'])\n",
    "    twr_names.append(buoy)\n",
    "    twr_abbreviation.append(buoy)\n",
    "    \n",
    "    \n",
    "print(twr_lon)\n",
    "print(twr_lat)\n",
    "print(twr_names)\n",
    "print(twr_abbreviation)"
   ]
  },
  {
   "cell_type": "markdown",
   "metadata": {},
   "source": [
    "# Setup myoutfields.txt files:"
   ]
  },
  {
   "cell_type": "code",
   "execution_count": 10,
   "metadata": {},
   "outputs": [],
   "source": [
    "vars_to_remove = ['EDMF_A','EDMF_QC','EDMF_QT','EDMF_ENT','EDMF_W','EDMF_THL','QVAPOR','SH20',\n",
    "                   'F_ICE_PHY','F_RAIN_PHY','F_RIMEF_PHY','QCLOUD','QRAIN','QSNOW','QHAIL','QGRAUP','QVAPOR',\n",
    "                  'SMCREL','SHDMAX','SHDMIN','SNOALB','SEAICE','XICEM','SFROFF',\n",
    "                  'UDROFF','IVGTYP','ACSNOM','SNOW','SNOWNC','SNOWH','CANWAT','COSZEN','LAI','TSLB',\n",
    "                  'GLW','TMN','SNOWC','SR','QICE','QNICE','QNSNOW','QNRAIN','QNGRAUPEL',\n",
    "                  'ACLWDNB','ACLWDNBC','ACLWDNT','ACLWDNTC','ACLWUPB','ACLWUPBC','ACLWUPT','ACLWUPTC',\n",
    "                  'ACSWDNB','ACSWDNBC','ACSWDNT','ACSWDNTC','ACSWUPB','ACSWUPBC','ACSWUPT','ACSWUPTC',\n",
    "                  'AFWA_RAIN','ALBBCK','ALBEDO','E','EMISS','NEST_POS','LAKEMASK',\n",
    "                  'MAPFAC_M','MAPFAC_U','MAPFAC_V','MAPFAC_MX','MAPFAC_MY','MAPFAC_UX','MAPFAC_UY','MAPFAC_VX','MF_VX_INV','MAPFAC_VY','SINALPHA',\n",
    "                  'I_ACLWDNB','I_ACLWDNBC','I_ACLWDNT','I_ACLWDNTC','I_ACLWUPB','I_ACLWUPBC','I_ACLWUPT','I_ACLWUPTC',\n",
    "                  'I_ACSWDNB','I_ACSWDNBC','I_ACSWDNT','I_ACSWDNTC','I_ACSWUPB','I_ACSWUPBC','I_ACSWUPT','I_ACSWUPTC',\n",
    "                  'GRAUPELNC','HAILNC','NOAHRES','NUPDRAFT','OLR','XICEM','ZS','DZS',\n",
    "                  'VAR_SSO','RDX','RDY','SMOIS','VAR','ALBBCK','XLAND','EL_PBL',\n",
    "                  'P_HYD','CWM','RQCBLTEN','RQIBLTEN','RQNIBLTEN','RQVBLTEN','RUBLTEN','RVBLTEN','RTHBLTEN',\n",
    "                  'mh1','mh2','mq1','mq2','mq3'\n",
    "                  ]\n",
    "\n",
    "vars_to_add = ['ZNT','Z0','SST','SSTSK']"
   ]
  },
  {
   "cell_type": "code",
   "execution_count": 11,
   "metadata": {},
   "outputs": [],
   "source": [
    "io_fields_meso = {'remove': \n",
    "                 {0 : ['EDMF_A','EDMF_QC','EDMF_QT','EDMF_ENT','EDMF_W','EDMF_THL','QVAPOR','SH20',\n",
    "                   'F_ICE_PHY','F_RAIN_PHY','F_RIMEF_PHY','QCLOUD','QRAIN','QSNOW','QHAIL','QGRAUP','QVAPOR',\n",
    "                  'SMCREL','SHDMAX','SHDMIN','SNOALB','SEAICE','XICEM','SFROFF',\n",
    "                  'UDROFF','IVGTYP','ACSNOM','SNOW','SNOWNC','SNOWH','CANWAT','COSZEN','LAI','TSLB',\n",
    "                  'GLW','TMN','SNOWC','SR','QICE','QNICE','QNSNOW','QNRAIN','QNGRAUPEL',\n",
    "                  'ACLWDNB','ACLWDNBC','ACLWDNT','ACLWDNTC','ACLWUPB','ACLWUPBC','ACLWUPT','ACLWUPTC',\n",
    "                  'ACSWDNB','ACSWDNBC','ACSWDNT','ACSWDNTC','ACSWUPB','ACSWUPBC','ACSWUPT','ACSWUPTC',\n",
    "                  'AFWA_RAIN','ALBBCK','ALBEDO','E','EMISS','NEST_POS','LAKEMASK',\n",
    "                  'MAPFAC_M','MAPFAC_U','MAPFAC_V','MAPFAC_MX','MAPFAC_MY','MAPFAC_UX','MAPFAC_UY','MAPFAC_VX','MF_VX_INV','MAPFAC_VY',\n",
    "                  'I_ACLWDNB','I_ACLWDNBC','I_ACLWDNT','I_ACLWDNTC','I_ACLWUPB','I_ACLWUPBC','I_ACLWUPT','I_ACLWUPTC','SINALPHA',\n",
    "                  'I_ACSWDNB','I_ACSWDNBC','I_ACSWDNT','I_ACSWDNTC','I_ACSWUPB','I_ACSWUPBC','I_ACSWUPT','I_ACSWUPTC',\n",
    "                  'GRAUPELNC','HAILNC','NOAHRES','NUPDRAFT','OLR','XICEM','ZS','DZS',\n",
    "                  'VAR_SSO','RDX','RDY','SMOIS','VAR','ALBBCK','XLAND','EL_PBL',\n",
    "                  'P_HYD','CWM','RQCBLTEN','RQIBLTEN','RQNIBLTEN','RQVBLTEN','RUBLTEN','RVBLTEN','RTHBLTEN',\n",
    "                  'ACHFX','ACLHF','GRDFLX','ACGRDFLX','SMOIS',\n",
    "                  'SWUPB','SWUPBC','SWDNB','SWDNBC','LWUPB','LWUPBC','LWDNB','LWDNBC',\n",
    "                  'RU_TEND','RU_TEND_ADV','RU_TEND_PGF','RU_TEND_COR','RU_TEND_CURV','RU_TEND_HDIFF','RU_TEND_PHYS','T_TEND_ADV',\n",
    "                  'RV_TEND','RV_TEND_ADV','RV_TEND_PGF','RV_TEND_COR','RV_TEND_CURV','RV_TEND_HDIFF','RV_TEND_PHYS',\n",
    "                  'U_G','V_G','U_G_TEND','V_G_TEND','MUU','MUV','MUT']\n",
    "                 },\n",
    "             'add' : {0: ['ZNT','SST','SSTSK','UST','QFX','HFX','LH']}\n",
    "            }\n"
   ]
  },
  {
   "cell_type": "markdown",
   "metadata": {},
   "source": [
    "# Set up run directory:"
   ]
  },
  {
   "cell_type": "code",
   "execution_count": 14,
   "metadata": {},
   "outputs": [
    {
     "name": "stdout",
     "output_type": "stream",
     "text": [
      "NCEI\n"
     ]
    }
   ],
   "source": [
    "for sst_dat in case_vars_dict['SST'][-1:]:\n",
    "    print(sst_dat)"
   ]
  },
  {
   "cell_type": "code",
   "execution_count": 16,
   "metadata": {
    "scrolled": true,
    "tags": []
   },
   "outputs": [
    {
     "name": "stdout",
     "output_type": "stream",
     "text": [
      "NCEIA_NOFL_NOSK - met_em: /glade/work/hawbecke/ATEC/Chesapeake/SENSITIVITY_STUDY/20190716to20190801/met_em/ERAI/NCEI/raw/\n"
     ]
    },
    {
     "name": "stderr",
     "output_type": "stream",
     "text": [
      "/glade/u/home/hawbecke/Code/Python/mmctools/mmctools/wrf/preprocessing.py:2251: FutureWarning: elementwise comparison failed; returning scalar instead, but in the future will perform elementwise comparison\n",
      "  if aux_names != []:\n"
     ]
    },
    {
     "name": "stdout",
     "output_type": "stream",
     "text": [
      "NCEIA_NOFL_SKNT - met_em: /glade/work/hawbecke/ATEC/Chesapeake/SENSITIVITY_STUDY/20190716to20190801/met_em/ERAI/NCEI/raw/\n",
      "NCEIA_FILL_NOSK - met_em: /glade/work/hawbecke/ATEC/Chesapeake/SENSITIVITY_STUDY/20190716to20190801/met_em/ERAI/NCEI/raw-filled/\n",
      "NCEIA_FILL_SKNT - met_em: /glade/work/hawbecke/ATEC/Chesapeake/SENSITIVITY_STUDY/20190716to20190801/met_em/ERAI/NCEI/raw-filled/\n"
     ]
    }
   ],
   "source": [
    "full_case_list = []\n",
    "for sst_dat in case_vars_dict['SST'][-1:]:\n",
    "    for f_opt in case_vars_dict['FILL'][:]:\n",
    "        for s_opt in case_vars_dict['SST_SKIN'][:]:\n",
    "            case_str = '_'.join([sst_datasets[sst_dat]['name'].upper(), f_opt, s_opt])\n",
    "            full_case_list.append(case_str)\n",
    "            \n",
    "            main_directory = '/glade/scratch/hawbecke/WRF/ATEC/Chesapeake/20190716to20190801/SST_SENSITIVITY/{}/'.format(case_str)\n",
    "            sst_met_str = '{}/'.format(sst_dat)\n",
    "            if sst_dat != 'orig':\n",
    "                sst_met_str += 'raw/'\n",
    "                if f_opt == 'FILL':\n",
    "                    sst_met_str = sst_met_str[:-1] + '-filled/'\n",
    "            else:\n",
    "                if f_opt == 'FILL':\n",
    "                    sst_met_str = 'FILL/raw-filled/'\n",
    "                    \n",
    "                \n",
    "            met_em_base_dir = '/glade/work/hawbecke/ATEC/Chesapeake/SENSITIVITY_STUDY/20190716to20190801/met_em/{}/{}'.format(icbc_type,sst_met_str)\n",
    "\n",
    "            print('{} - met_em: {}'.format(case_str,met_em_base_dir))\n",
    "            \n",
    "\n",
    "            case_dates = pd.date_range(case_start,case_end,freq=case_delta)\n",
    "            cases = []\n",
    "            if s_opt == 'NOSK':\n",
    "                setup_dict['sst_skin'] = 0\n",
    "            else:\n",
    "                setup_dict['sst_skin'] = 1\n",
    "\n",
    "        for cc,case in enumerate(case_dates):\n",
    "            case_str = str(case).split(' ')[0].replace('-','')\n",
    "            case_str = '{}_{}'.format(icbc_type,case_str)\n",
    "            cases.append(case_str)\n",
    "            run_directory = '{}{}/'.format(main_directory,case_str)\n",
    "            setup_dict['start_date'] = str(case)\n",
    "            setup_dict['end_date'] = str(case + pd.to_timedelta(case_length))\n",
    "                wrf_setup = wps.SetupWRF(run_directory=run_directory,\n",
    "                                         icbc_directory=icbc_directory,\n",
    "                                         executables_dict={'wrf':wrf_exe_location,'wps':wps_exe_location})\n",
    "                wrf_setup.SetupNamelist(setup_dict)\n",
    "                wrf_setup.CreateRunDirectory()\n",
    "                wrf_setup.write_namelist('wps')\n",
    "                wrf_setup.write_namelist('input')\n",
    "                wrf_setup.write_submission_scripts(submission_dict=submission_dict,hpc='cheyenne')\n",
    "                ###wrf_setup.write_io_fieldnames(vars_to_remove=[vars_to_remove],vars_to_add=[vars_to_add])\n",
    "                wrf_setup.write_io_fieldnames(io_fields={'myoutfields.txt':io_fields_meso})\n",
    "                wrf_setup.create_tslist_file(lat=twr_lat,lon=twr_lon,\n",
    "                                             twr_names=twr_names,\n",
    "                                             twr_abbr=twr_abbreviation,\n",
    "                                             preV4p3=True)\n",
    "                ##wrf_setup.get_icbcs()\n",
    "                wrf_setup.link_metem_files(met_em_base_dir)\n",
    "\n",
    "#wrf_setup.create_submitAll_scripts(main_directory,cases,['wps','real','wrf'])"
   ]
  },
  {
   "cell_type": "code",
   "execution_count": 13,
   "metadata": {},
   "outputs": [
    {
     "name": "stdout",
     "output_type": "stream",
     "text": [
      "for value in DEFLT_NOFL_NOSK DEFLT_NOFL_SKNT DEFLT_FILL_NOSK DEFLT_FILL_SKNT G1SST_NOFL_NOSK G1SST_NOFL_SKNT G1SST_FILL_NOSK G1SST_FILL_SKNT MUR1K_NOFL_NOSK MUR1K_NOFL_SKNT MUR1K_FILL_NOSK MUR1K_FILL_SKNT MODIS_NOFL_NOSK MODIS_NOFL_SKNT MODIS_FILL_NOSK MODIS_FILL_SKNT OSPOG_NOFL_NOSK OSPOG_NOFL_SKNT OSPOG_FILL_NOSK OSPOG_FILL_SKNT OSTIA_NOFL_NOSK OSTIA_NOFL_SKNT OSTIA_FILL_NOSK OSTIA_FILL_SKNT NAVOK_NOFL_NOSK NAVOK_NOFL_SKNT NAVOK_FILL_NOSK NAVOK_FILL_SKNT CMC01_NOFL_NOSK CMC01_NOFL_SKNT CMC01_FILL_NOSK CMC01_FILL_SKNT \n"
     ]
    }
   ],
   "source": [
    "submit_str = 'for value in '\n",
    "for case in full_case_list:\n",
    "    submit_str += '{} '.format(case)\n",
    "print(submit_str)"
   ]
  },
  {
   "cell_type": "code",
   "execution_count": 22,
   "metadata": {},
   "outputs": [
    {
     "name": "stdout",
     "output_type": "stream",
     "text": [
      "d01\n",
      "No files missing!\n",
      "\n",
      "d02\n",
      "No files missing!\n",
      "\n",
      "d03\n",
      "No files missing!\n",
      "\n",
      "d01\n",
      "No files missing!\n",
      "\n",
      "d02\n",
      "No files missing!\n",
      "\n",
      "d03\n",
      "No files missing!\n",
      "\n",
      "d01\n",
      "No files missing!\n",
      "\n",
      "d02\n",
      "No files missing!\n",
      "\n",
      "d03\n",
      "No files missing!\n",
      "\n",
      "d01\n",
      "No files missing!\n",
      "\n",
      "d02\n",
      "No files missing!\n",
      "\n",
      "d03\n",
      "No files missing!\n",
      "\n",
      "d01\n",
      "No files missing!\n",
      "\n",
      "d02\n",
      "No files missing!\n",
      "\n",
      "d03\n",
      "No files missing!\n",
      "\n",
      "d01\n",
      "No files missing!\n",
      "\n",
      "d02\n",
      "No files missing!\n",
      "\n",
      "d03\n",
      "No files missing!\n",
      "\n",
      "d01\n",
      "No files missing!\n",
      "\n",
      "d02\n",
      "No files missing!\n",
      "\n",
      "d03\n",
      "No files missing!\n",
      "\n",
      "d01\n",
      "No files missing!\n",
      "\n",
      "d02\n",
      "No files missing!\n",
      "\n",
      "d03\n",
      "No files missing!\n",
      "\n",
      "d01\n",
      "No files missing!\n",
      "\n",
      "d02\n",
      "No files missing!\n",
      "\n",
      "d03\n",
      "No files missing!\n",
      "\n",
      "d01\n",
      "No files missing!\n",
      "\n",
      "d02\n",
      "No files missing!\n",
      "\n",
      "d03\n",
      "No files missing!\n",
      "\n",
      "d01\n",
      "No files missing!\n",
      "\n",
      "d02\n",
      "No files missing!\n",
      "\n",
      "d03\n",
      "No files missing!\n",
      "\n",
      "d01\n",
      "No files missing!\n",
      "\n",
      "d02\n",
      "No files missing!\n",
      "\n",
      "d03\n",
      "No files missing!\n",
      "\n",
      "d01\n",
      "No files missing!\n",
      "\n",
      "d02\n",
      "No files missing!\n",
      "\n",
      "d03\n",
      "No files missing!\n",
      "\n",
      "d01\n",
      "No files missing!\n",
      "\n",
      "d02\n",
      "No files missing!\n",
      "\n",
      "d03\n",
      "No files missing!\n",
      "\n"
     ]
    }
   ],
   "source": [
    "f_dir = '/glade/work/hawbecke/ATEC/Chesapeake/SENSITIVITY_STUDY/20190716to20190801/met_em/ERAI/'\n",
    "for sst_dat in case_vars_dict['SST'][1:-1]:\n",
    "    for filled in ['raw','raw-filled']:\n",
    "        for dom in [1,2,3]:\n",
    "            print('d0{}'.format(dom))\n",
    "            expected_dates = pd.date_range(start=pd.to_datetime('2019-07-15 18:00'),\n",
    "                                           end=pd.to_datetime('2019-08-01 06:00'),\n",
    "                                           freq='6h')\n",
    "            expected_len = len(expected_dates)\n",
    "\n",
    "            missing_dates = list(expected_dates.copy())\n",
    "\n",
    "            dom_files = sorted(glob.glob('{}{}/{}/met_em.d0{}*'.format(f_dir,sst_dat,filled,dom)))\n",
    "\n",
    "            for ff,fname in enumerate(dom_files):\n",
    "                date = pd.to_datetime(' '.join(fname.split('/')[-1].split('.')[-2].replace('_',' ').split(' ')[-2:]))\n",
    "                if date in expected_dates:\n",
    "                    missing_dates.remove(date)\n",
    "            if missing_dates != []:\n",
    "                print('missing the following dates')\n",
    "                print(missing_dates)\n",
    "            else:\n",
    "                print('No files missing!')\n",
    "            print()"
   ]
  },
  {
   "cell_type": "code",
   "execution_count": 18,
   "metadata": {},
   "outputs": [
    {
     "data": {
      "text/plain": [
       "'orig'"
      ]
     },
     "execution_count": 18,
     "metadata": {},
     "output_type": "execute_result"
    }
   ],
   "source": [
    "sst_dat"
   ]
  }
 ],
 "metadata": {
  "kernelspec": {
   "display_name": "mmc",
   "language": "python",
   "name": "mmc"
  },
  "language_info": {
   "codemirror_mode": {
    "name": "ipython",
    "version": 3
   },
   "file_extension": ".py",
   "mimetype": "text/x-python",
   "name": "python",
   "nbconvert_exporter": "python",
   "pygments_lexer": "ipython3",
   "version": "3.7.6"
  }
 },
 "nbformat": 4,
 "nbformat_minor": 4
}

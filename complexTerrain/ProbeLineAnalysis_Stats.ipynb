{
 "cells": [
  {
   "cell_type": "markdown",
   "metadata": {},
   "source": [
    "# Turbulence Development Over Complex Terrain\n",
    "This notebook contains the necessary code to analyze the SOWFA simulations that are used to determine the effectiveness of terrain in generating turbulence.\n",
    "\n",
    "## Import necessary libraries"
   ]
  },
  {
   "cell_type": "code",
   "execution_count": 2,
   "metadata": {},
   "outputs": [],
   "source": [
    "%load_ext autoreload\n",
    "%autoreload 2\n",
    "%matplotlib inline"
   ]
  },
  {
   "cell_type": "code",
   "execution_count": 3,
   "metadata": {},
   "outputs": [],
   "source": [
    "import numpy as np\n",
    "import matplotlib.pyplot as plt\n",
    "import sowfadict as sowfa\n",
    "import tools\n",
    "from scipy.stats import norm\n",
    "from scipy.stats import skew,kurtosis\n",
    "from scipy import signal\n",
    "import pandas as pd\n",
    "from matplotlib.colors import Normalize"
   ]
  },
  {
   "cell_type": "markdown",
   "metadata": {},
   "source": [
    "### Declare user variables (cases, towers, colors, etc.) for tower data"
   ]
  },
  {
   "cell_type": "code",
   "execution_count": 96,
   "metadata": {},
   "outputs": [],
   "source": [
    "terrstr = 'D2'\n",
    "simstr  = ['PGx2.2En4_zi1100']*3\n",
    "\n",
    "caselbl = ['Turb.','Laminar','Pert.']\n",
    "cases   = ['M2_{}_TurbBC'.format(terrstr),'M2_{}_NoTurbBC'.format(terrstr),'M2_{}_PertBC'.format(terrstr)]\n",
    "if terrstr == 'SR':\n",
    "    casec   = ['navy','darkturquoise','blue']\n",
    "    terrstr_f = 'Complex Terrain'\n",
    "elif terrstr == 'D2':\n",
    "    casec   = ['red','goldenrod','darkred']\n",
    "    terrstr_f = 'Smoothed Terrain'\n",
    "casece  = [casec[0],'none',casec[2]]#,'none']\n",
    "casecf  = ['none',casec[1],'none']#,casec[3]]\n",
    "casem   = ['o','x','+']\n",
    "caselw  = ['3','2','3','2']\n",
    "casea   = [0.8,1.0,0.8,1.0]\n",
    "casesz  = [50,15,50,15]\n",
    "casels  = ['-',':','--']\n",
    "ncases  = np.shape(cases)[0]\n",
    "\n",
    "#simstr  = ['PGx2.2En4_zi550','PGx2.2En4_zi550','PGx2.2En4_zi550']#,'PGx2.2En4_zi550']\n",
    "x = np.arange(0,101)\n",
    "\n",
    "varns   = ['u','v','w','T']\n",
    "nvars   = np.shape(varns)[0]\n",
    "\n",
    "timedir = 14400\n",
    "\n",
    "avgstart = 1799 # when do you want to start the averaging?\n",
    "avgend   = -1 # when do you want to end the averaging?\n",
    "\n",
    "lvl     = 5\n",
    "\n",
    "twrs    = np.arange(1,9)\n",
    "ntwrs   = np.shape(twrs)[0]\n",
    "\n",
    "lblsize = 14.0\n",
    "txtsize = 12.0\n",
    "legsize = 10.0\n",
    "savedir = '/home/phawbeck/SOWFA/Terrain/img/'\n"
   ]
  },
  {
   "cell_type": "markdown",
   "metadata": {},
   "source": [
    "### Load in the data and store for manipulation & plotting"
   ]
  },
  {
   "cell_type": "code",
   "execution_count": 97,
   "metadata": {},
   "outputs": [
    {
     "name": "stdout",
     "output_type": "stream",
     "text": [
      "initializing individual tower vars\n",
      "Done with case: M2_D2_TurbBC\n",
      "Done with case: M2_D2_NoTurbBC\n",
      "Done with case: M2_D2_PertBC\n"
     ]
    }
   ],
   "source": [
    "initIndividualTowerVars = True\n",
    "initAvgTowerVars        = True\n",
    "for cc in range(0,ncases):\n",
    "    for tt in range(0,ntwrs):\n",
    "        fdir      = '/projects/mmc/NWTCRegion/{}/NWTC.run.{}/postProcessing/'.format(simstr[cc],cases[cc])\n",
    "        pl        = 'probeLine%d' % twrs[tt]\n",
    "        probeLine = sowfa.probeLine('%s%s/%d/' % (fdir,pl,timedir),'y',['U','T'])\n",
    "        dt        = np.round(np.mean(probeLine.time[1:] - probeLine.time[:-1]),2)\n",
    "        ntwr      = probeLine.ntowers; ntwrsq = int(np.sqrt(ntwr))\n",
    "        if tt == 0: \n",
    "            tdz        = np.mean(probeLine.z[0,1:] - probeLine.z[0,:-1]) \n",
    "            twrheight  = probeLine.z[0,:] - probeLine.z[0,0] + tdz/2.0\n",
    "            nz = np.shape(twrheight)[0]\n",
    "        for vv in range(0,nvars):\n",
    "            var = varns[vv]\n",
    "            for tw in np.arange(0,probeLine.ntowers):\n",
    "                if var == 'u':\n",
    "                    pvar   = probeLine.u[tw,:,avgstart:avgend]\n",
    "                    #avgvar = np.mean(probeLine.u[tw,:,avgstart:avgend],axis=1)\n",
    "                elif var == 'v':\n",
    "                    pvar   = probeLine.v[tw,:,avgstart:avgend]\n",
    "                    #avgvar = np.mean(probeLine.v[tw,:,avgstart:avgend],axis=1)\n",
    "                elif var == 'w':\n",
    "                    pvar   = probeLine.w[tw,:,avgstart:avgend]\n",
    "                    #avgvar = np.mean(probeLine.w[tw,:,avgstart:avgend],axis=1)\n",
    "                elif var == 'T':\n",
    "                    pvar   = probeLine.T[tw,:,avgstart:avgend]\n",
    "                    #avgvar = np.mean(probeLine.T[tw,:,avgstart:avgend],axis=1)\n",
    "                if initIndividualTowerVars == True:\n",
    "                    print (\"initializing individual tower vars\")\n",
    "                    time       = probeLine.time[avgstart:avgend] \n",
    "                    ntimes     = np.shape(time)[0]\n",
    "                    tsvarfull  = np.zeros((nvars,ncases,ntwrs,ntwr,nz,ntimes))\n",
    "                    initIndividualTowerVars = False\n",
    "                tsvarfull[vv,cc,tt,tw,:,:]  = pvar\n",
    "    print ('Done with case: {}'.format(cases[cc]))"
   ]
  },
  {
   "cell_type": "markdown",
   "metadata": {},
   "source": [
    "### Calculate statistics"
   ]
  },
  {
   "cell_type": "code",
   "execution_count": 98,
   "metadata": {},
   "outputs": [],
   "source": [
    "saveTable = False\n",
    "vmean     = np.zeros((nvars,ncases,ntwrs))\n",
    "vvari     = np.zeros((nvars,ncases,ntwrs))\n",
    "vskew     = np.zeros((nvars,ncases,ntwrs))\n",
    "vkurt     = np.zeros((nvars,ncases,ntwrs))\n",
    "for vvi,vv in enumerate(varns):\n",
    "    varind = varns.index(vv)\n",
    "    casestr = ['']*ncases*ntwrs\n",
    "    twrstr  = ['']*ncases*ntwrs\n",
    "\n",
    "    count = 0\n",
    "    for cc in range(0,ncases):\n",
    "        for tt in range(0,ntwrs):\n",
    "            casestr[count]   = cases[cc]\n",
    "            twrstr[count]    = twrs[tt]\n",
    "            #varpfs          = np.sort(varpfull[varind,cc,tt,:])\n",
    "            varpfs           = tsvarfull[varind,cc,tt,:,lvl,:]\n",
    "            vmean[vvi,cc,tt] = np.mean(varpfs.flatten())\n",
    "            vvari[vvi,cc,tt] = np.var(varpfs.flatten()-vmean[vvi,cc,tt])\n",
    "            vskew[vvi,cc,tt] = skew(varpfs.flatten()-vmean[vvi,cc,tt])\n",
    "            vkurt[vvi,cc,tt] = kurtosis(varpfs.flatten()-vmean[vvi,cc,tt])\n",
    "            count += 1\n",
    "#    df = pd.DataFrame(\n",
    "#        data={\n",
    "#            'Case':casestr,\n",
    "#            'Tower Number':twrstr,\n",
    "#            'Mean':vmean.flatten(),\n",
    "#            'Variance':vvari.flatten(),\n",
    "#            'Skewness':vskew.flatten(),\n",
    "#            'Kurtosis':vkurt.flatten(),\n",
    "#        })\n",
    "#    #df.to_latex('test.tex')\n",
    "#    df = df[['Case','Tower Number','Mean','Variance','Skewness','Kurtosis']]\n",
    "#    if saveTable: df.to_latex('{}/SR_{}_statistics.tex'.format(savedir,var))\n",
    "#    print df"
   ]
  },
  {
   "cell_type": "code",
   "execution_count": 99,
   "metadata": {},
   "outputs": [
    {
     "data": {
      "image/png": "[encoded data removed]",
      "text/plain": [
       "<Figure size 648x576 with 4 Axes>"
      ]
     },
     "metadata": {
      "needs_background": "light"
     },
     "output_type": "display_data"
    }
   ],
   "source": [
    "saveFig = True\n",
    "var = 'u'\n",
    "varind = varns.index(var)\n",
    "fig, ax = plt.subplots(nrows=4,ncols=1,figsize=(9,8),sharex=True)\n",
    "if var == 'T':\n",
    "    plt.suptitle('Potential Temperature [K]',size=lblsize)\n",
    "    labelstr = '[K]'\n",
    "    legloc = 4\n",
    "else:\n",
    "    plt.suptitle('{}-component Wind Speed\\n{} - {}'.format(var,simstr[0],terrstr_f),size=lblsize)\n",
    "    labelstr = '[m s$^{-1}$]'\n",
    "    legloc = (0.01,1.02)\n",
    "\n",
    "ax[0].tick_params(labelsize=14)\n",
    "ax[1].tick_params(labelsize=14)\n",
    "ax[2].tick_params(labelsize=14)\n",
    "ax[3].tick_params(labelsize=14)\n",
    "for cc in range(0,ncases):\n",
    "    lw = 2.0; ms = 125\n",
    "    if cc > 0: lw = 3.0; ms = 130\n",
    "    ax[0].scatter(twrs,vmean[varind,cc,:],facecolor=casec[cc],s=ms,marker=casem[cc],lw=lw,label=caselbl[cc])\n",
    "    ax[1].scatter(twrs,vvari[varind,cc,:],facecolor=casec[cc],s=ms,marker=casem[cc],lw=lw)\n",
    "    ax[2].scatter(twrs,vskew[varind,cc,:],facecolor=casec[cc],s=ms,marker=casem[cc],lw=lw)\n",
    "    ax[3].scatter(twrs,vkurt[varind,cc,:],facecolor=casec[cc],s=ms,marker=casem[cc],lw=lw)\n",
    "ax[0].legend(frameon=False,ncol=ncases,loc=(0.01,1.02),fontsize=12)\n",
    "ax[0].set_ylabel('Mean',size=14)\n",
    "ax[1].set_ylabel('Variance',size=14)\n",
    "ax[2].set_ylabel('Skewness',size=14)\n",
    "ax[3].set_ylabel('Kurtosis',size=14)\n",
    "ax[3].set_xlabel('Tower Number',size=14)\n",
    "if saveFig: \n",
    "    plt.savefig('{}{}_{}_Statistics_{}.png'.format(savedir,simstr[cc].replace('.','p'),terrstr,var))\n",
    "    plt.savefig('{}{}_{}_Statistics_{}.pdf'.format(savedir,simstr[cc].replace('.','p'),terrstr,var))\n",
    "plt.show()"
   ]
  },
  {
   "cell_type": "code",
   "execution_count": null,
   "metadata": {},
   "outputs": [],
   "source": []
  }
 ],
 "metadata": {
  "kernelspec": {
   "display_name": "Python 3",
   "language": "python",
   "name": "python3"
  },
  "language_info": {
   "codemirror_mode": {
    "name": "ipython",
    "version": 3
   },
   "file_extension": ".py",
   "mimetype": "text/x-python",
   "name": "python",
   "nbconvert_exporter": "python",
   "pygments_lexer": "ipython3",
   "version": "3.7.2"
  }
 },
 "nbformat": 4,
 "nbformat_minor": 2
}
